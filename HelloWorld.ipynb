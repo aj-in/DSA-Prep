{
 "cells": [
  {
   "cell_type": "code",
   "execution_count": 98,
   "id": "a08e272d",
   "metadata": {},
   "outputs": [],
   "source": [
    "import pandas as pd\n",
    "this is my FREainafd doasnd\n"
    "from sklearn.tree import DecisionTreeClassifier\n",
    "from sklearn import tree\n",
    "\n",
    " \n",
    "music_data = pd.read_csv(\"music.csv\")   # obj1 \n",
    "\n",
    "X=music_data.drop(columns=[\"genre\"])\n",
    "\n",
    "y=music_data[\"genre\"]\n",
    "\n",
    "\n",
    "\n",
    "model = DecisionTreeClassifier()  # obj2\n",
    "model.fit(X,y)                 # sending data set\n",
    "\n",
    "tree.export_graphviz(model,out_file=\"music-recommender.dot\",feature_names=[\"age\",\"gender\"], class_names=sorted(y.unique()),label=\"all\", rounded =True, filled=True)\n",
    "\n"
   ]
  },
  {
   "cell_type": "code",
   "execution_count": null,
   "id": "542dfd49",
   "metadata": {},
   "outputs": [],
   "source": []
  },
  {
   "cell_type": "code",
   "execution_count": null,
   "id": "ae57835b",
   "metadata": {},
   "outputs": [],
   "source": []
  },
  {
   "cell_type": "code",
   "execution_count": null,
   "id": "db9f7c5b",
   "metadata": {},
   "outputs": [],
   "source": []
  }
 ],
 "metadata": {
  "kernelspec": {
   "display_name": "Python 3",
   "language": "python",
   "name": "python3"
  },
  "language_info": {
   "codemirror_mode": {
    "name": "ipython",
    "version": 3
   },
   "file_extension": ".py",
   "mimetype": "text/x-python",
   "name": "python",
   "nbconvert_exporter": "python",
   "pygments_lexer": "ipython3",
   "version": "3.8.8"
  }
 },
 "nbformat": 4,
 "nbformat_minor": 5
}
